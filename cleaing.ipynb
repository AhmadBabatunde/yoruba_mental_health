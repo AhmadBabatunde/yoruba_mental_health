{
 "cells": [
  {
   "cell_type": "code",
   "execution_count": 26,
   "metadata": {},
   "outputs": [],
   "source": [
    "df1 = pd.read_csv('therapy-data-yoruba-row 0-2000 (1).csv')\n",
    "df2 = pd.read_csv('therapy-data-yoruba-row 2000-5000.csv')\n",
    "df3 = pd.read_csv('therapy-data-yoruba-row 5000-6000.csv')"
   ]
  },
  {
   "cell_type": "code",
   "execution_count": 27,
   "metadata": {},
   "outputs": [
    {
     "name": "stdout",
     "output_type": "stream",
     "text": [
      "<class 'pandas.core.frame.DataFrame'>\n",
      "RangeIndex: 4000 entries, 0 to 3999\n",
      "Data columns (total 6 columns):\n",
      " #   Column              Non-Null Count  Dtype \n",
      "---  ------              --------------  ----- \n",
      " 0   instruction         4000 non-null   object\n",
      " 1   input               4000 non-null   object\n",
      " 2   output              4000 non-null   object\n",
      " 3   instruction-Yoruba  4000 non-null   object\n",
      " 4   input-Yoruba        4000 non-null   object\n",
      " 5   output-Yoruba       4000 non-null   object\n",
      "dtypes: object(6)\n",
      "memory usage: 187.6+ KB\n"
     ]
    }
   ],
   "source": [
    "df4 = pd.concat([df2,df3], ignore_index=True)\n",
    "df4.info()"
   ]
  },
  {
   "cell_type": "code",
   "execution_count": 28,
   "metadata": {},
   "outputs": [
    {
     "data": {
      "text/html": [
       "<div>\n",
       "<style scoped>\n",
       "    .dataframe tbody tr th:only-of-type {\n",
       "        vertical-align: middle;\n",
       "    }\n",
       "\n",
       "    .dataframe tbody tr th {\n",
       "        vertical-align: top;\n",
       "    }\n",
       "\n",
       "    .dataframe thead th {\n",
       "        text-align: right;\n",
       "    }\n",
       "</style>\n",
       "<table border=\"1\" class=\"dataframe\">\n",
       "  <thead>\n",
       "    <tr style=\"text-align: right;\">\n",
       "      <th></th>\n",
       "      <th>instruction-Yoruba</th>\n",
       "      <th>input-Yoruba</th>\n",
       "      <th>output-Yoruba</th>\n",
       "    </tr>\n",
       "  </thead>\n",
       "  <tbody>\n",
       "    <tr>\n",
       "      <th>0</th>\n",
       "      <td>O jẹ́ ọ̀kan lára àwọn ọ̀nà tó o lè gbà ṣe nǹka...</td>\n",
       "      <td>Mo ní ìṣòro pẹ̀lú àwọn òbí mi. A máa ń bára wa...</td>\n",
       "      <td>Ìjùmọ̀sọ̀rọ̀ ṣe pàtàkì nínú àjọṣe èyíkéyìí, tí...</td>\n",
       "    </tr>\n",
       "    <tr>\n",
       "      <th>1</th>\n",
       "      <td>O jẹ́ ọ̀kan lára àwọn ọ̀nà tó o lè gbà ṣe nǹka...</td>\n",
       "      <td>Kò sí ohun tó ń mú mi lọ́kàn yọ̀ nísinsìnyí.</td>\n",
       "      <td>Ẹ jẹ́ ká wá mọ ohun tó ń ṣẹlẹ̀ nínú ìgbésí ayé...</td>\n",
       "    </tr>\n",
       "    <tr>\n",
       "      <th>2</th>\n",
       "      <td>O jẹ́ ọ̀kan lára àwọn ọ̀nà tó o lè gbà ṣe nǹka...</td>\n",
       "      <td>Mo ń bá àṣà yìí jà, mi ò sì mọ bí mo ṣe lè jáwọ́.</td>\n",
       "      <td>Ìṣòro tó le koko ni dídi bárakú, ó sì sábà máa...</td>\n",
       "    </tr>\n",
       "    <tr>\n",
       "      <th>3</th>\n",
       "      <td>O jẹ́ ọ̀kan lára àwọn ọ̀nà tó o lè gbà ṣe nǹka...</td>\n",
       "      <td>Mo ní ìṣòro pẹ̀lú àwòrán ara mi, ó sì ń nípa l...</td>\n",
       "      <td>Àwọn ìṣòro tó bá kan ìrísí ara lè ṣòro gan-an....</td>\n",
       "    </tr>\n",
       "    <tr>\n",
       "      <th>4</th>\n",
       "      <td>O jẹ́ ọ̀kan lára àwọn ọ̀nà tó o lè gbà ṣe nǹka...</td>\n",
       "      <td>Mo ń kojú ìdààmú ọkàn tó ń bá mi fínra</td>\n",
       "      <td>Ó lè ṣòro láti borí àníyàn tó ń báni fínra, àm...</td>\n",
       "    </tr>\n",
       "  </tbody>\n",
       "</table>\n",
       "</div>"
      ],
      "text/plain": [
       "                                  instruction-Yoruba  \\\n",
       "0  O jẹ́ ọ̀kan lára àwọn ọ̀nà tó o lè gbà ṣe nǹka...   \n",
       "1  O jẹ́ ọ̀kan lára àwọn ọ̀nà tó o lè gbà ṣe nǹka...   \n",
       "2  O jẹ́ ọ̀kan lára àwọn ọ̀nà tó o lè gbà ṣe nǹka...   \n",
       "3  O jẹ́ ọ̀kan lára àwọn ọ̀nà tó o lè gbà ṣe nǹka...   \n",
       "4  O jẹ́ ọ̀kan lára àwọn ọ̀nà tó o lè gbà ṣe nǹka...   \n",
       "\n",
       "                                        input-Yoruba  \\\n",
       "0  Mo ní ìṣòro pẹ̀lú àwọn òbí mi. A máa ń bára wa...   \n",
       "1       Kò sí ohun tó ń mú mi lọ́kàn yọ̀ nísinsìnyí.   \n",
       "2  Mo ń bá àṣà yìí jà, mi ò sì mọ bí mo ṣe lè jáwọ́.   \n",
       "3  Mo ní ìṣòro pẹ̀lú àwòrán ara mi, ó sì ń nípa l...   \n",
       "4             Mo ń kojú ìdààmú ọkàn tó ń bá mi fínra   \n",
       "\n",
       "                                       output-Yoruba  \n",
       "0  Ìjùmọ̀sọ̀rọ̀ ṣe pàtàkì nínú àjọṣe èyíkéyìí, tí...  \n",
       "1  Ẹ jẹ́ ká wá mọ ohun tó ń ṣẹlẹ̀ nínú ìgbésí ayé...  \n",
       "2  Ìṣòro tó le koko ni dídi bárakú, ó sì sábà máa...  \n",
       "3  Àwọn ìṣòro tó bá kan ìrísí ara lè ṣòro gan-an....  \n",
       "4  Ó lè ṣòro láti borí àníyàn tó ń báni fínra, àm...  "
      ]
     },
     "execution_count": 28,
     "metadata": {},
     "output_type": "execute_result"
    }
   ],
   "source": [
    "df4.drop(['instruction', 'input', 'output'],axis=1, inplace=True)\n",
    "df4.head()"
   ]
  },
  {
   "cell_type": "code",
   "execution_count": 29,
   "metadata": {},
   "outputs": [
    {
     "name": "stdout",
     "output_type": "stream",
     "text": [
      "<class 'pandas.core.frame.DataFrame'>\n",
      "RangeIndex: 2000 entries, 0 to 1999\n",
      "Data columns (total 3 columns):\n",
      " #   Column              Non-Null Count  Dtype \n",
      "---  ------              --------------  ----- \n",
      " 0   instruction-Yoruba  2000 non-null   object\n",
      " 1   input-Yoruba        2000 non-null   object\n",
      " 2   output-Yoruba       2000 non-null   object\n",
      "dtypes: object(3)\n",
      "memory usage: 47.0+ KB\n"
     ]
    }
   ],
   "source": [
    "df1.info()"
   ]
  },
  {
   "cell_type": "code",
   "execution_count": 30,
   "metadata": {},
   "outputs": [
    {
     "name": "stdout",
     "output_type": "stream",
     "text": [
      "<class 'pandas.core.frame.DataFrame'>\n",
      "RangeIndex: 6000 entries, 0 to 5999\n",
      "Data columns (total 3 columns):\n",
      " #   Column              Non-Null Count  Dtype \n",
      "---  ------              --------------  ----- \n",
      " 0   instruction-Yoruba  6000 non-null   object\n",
      " 1   input-Yoruba        6000 non-null   object\n",
      " 2   output-Yoruba       6000 non-null   object\n",
      "dtypes: object(3)\n",
      "memory usage: 140.8+ KB\n"
     ]
    }
   ],
   "source": [
    "df = pd.concat([df1, df4], ignore_index=True)\n",
    "df.info()"
   ]
  },
  {
   "cell_type": "code",
   "execution_count": 31,
   "metadata": {},
   "outputs": [
    {
     "data": {
      "text/html": [
       "<div>\n",
       "<style scoped>\n",
       "    .dataframe tbody tr th:only-of-type {\n",
       "        vertical-align: middle;\n",
       "    }\n",
       "\n",
       "    .dataframe tbody tr th {\n",
       "        vertical-align: top;\n",
       "    }\n",
       "\n",
       "    .dataframe thead th {\n",
       "        text-align: right;\n",
       "    }\n",
       "</style>\n",
       "<table border=\"1\" class=\"dataframe\">\n",
       "  <thead>\n",
       "    <tr style=\"text-align: right;\">\n",
       "      <th></th>\n",
       "      <th>instruction-Yoruba</th>\n",
       "      <th>input-Yoruba</th>\n",
       "      <th>output-Yoruba</th>\n",
       "      <th>combined</th>\n",
       "    </tr>\n",
       "  </thead>\n",
       "  <tbody>\n",
       "    <tr>\n",
       "      <th>0</th>\n",
       "      <td>O jé? ò?kan lára àw?n ò?nà tó o lè gbà ?e n?ka...</td>\n",
       "      <td>Mo máa n dá ara mi lé?bi gan-an pé mi ò lè lo ...</td>\n",
       "      <td>Ó lè ?e é lá?fààní láti s? ohun tó n ?eni láàá...</td>\n",
       "      <td>{'instruction-Yoruba': 'O jé? ò?kan lára àw?n ...</td>\n",
       "    </tr>\n",
       "    <tr>\n",
       "      <th>1</th>\n",
       "      <td>O jé? ò?kan lára àw?n ò?nà tó o lè gbà ?e n?ka...</td>\n",
       "      <td>Mo n dá wà gan-an, mo sì n dá wà. Kí ni mo lè ...</td>\n",
       "      <td>Ó lè ?òro láti dá wà, àmó? àw?n ò?nà kan wà té...</td>\n",
       "      <td>{'instruction-Yoruba': 'O jé? ò?kan lára àw?n ...</td>\n",
       "    </tr>\n",
       "    <tr>\n",
       "      <th>2</th>\n",
       "      <td>O jé? ò?kan lára àw?n ò?nà tó o lè gbà ?e n?ka...</td>\n",
       "      <td>Mo n kojú èrò tó n kó ìdààmú bá mi. Mo máa n n...</td>\n",
       "      <td>Àw?n èrò tó n fa ìdààmú ?kàn lè máa dunni, àmó...</td>\n",
       "      <td>{'instruction-Yoruba': 'O jé? ò?kan lára àw?n ...</td>\n",
       "    </tr>\n",
       "    <tr>\n",
       "      <th>3</th>\n",
       "      <td>O jé? ò?kan lára àw?n ò?nà tó o lè gbà ?e n?ka...</td>\n",
       "      <td>Mo ti n rò pé mi ò ní ìrètí kankan, mi ò sì rí...</td>\n",
       "      <td>Ìrè?wè?sì lè jé? àmì ìrè?wè?sì ?kàn. ? jé? ká ...</td>\n",
       "      <td>{'instruction-Yoruba': 'O jé? ò?kan lára àw?n ...</td>\n",
       "    </tr>\n",
       "    <tr>\n",
       "      <th>4</th>\n",
       "      <td>O jé? ò?kan lára àw?n ò?nà tó o lè gbà ?e n?ka...</td>\n",
       "      <td>Inú mi máa n bí mi gan-an, inú sì máa n bí mi ...</td>\n",
       "      <td>Ó ?e pàtàkì pé kó o kó? bó o ?e lè máa ?àkóso ...</td>\n",
       "      <td>{'instruction-Yoruba': 'O jé? ò?kan lára àw?n ...</td>\n",
       "    </tr>\n",
       "  </tbody>\n",
       "</table>\n",
       "</div>"
      ],
      "text/plain": [
       "                                  instruction-Yoruba  \\\n",
       "0  O jé? ò?kan lára àw?n ò?nà tó o lè gbà ?e n?ka...   \n",
       "1  O jé? ò?kan lára àw?n ò?nà tó o lè gbà ?e n?ka...   \n",
       "2  O jé? ò?kan lára àw?n ò?nà tó o lè gbà ?e n?ka...   \n",
       "3  O jé? ò?kan lára àw?n ò?nà tó o lè gbà ?e n?ka...   \n",
       "4  O jé? ò?kan lára àw?n ò?nà tó o lè gbà ?e n?ka...   \n",
       "\n",
       "                                        input-Yoruba  \\\n",
       "0  Mo máa n dá ara mi lé?bi gan-an pé mi ò lè lo ...   \n",
       "1  Mo n dá wà gan-an, mo sì n dá wà. Kí ni mo lè ...   \n",
       "2  Mo n kojú èrò tó n kó ìdààmú bá mi. Mo máa n n...   \n",
       "3  Mo ti n rò pé mi ò ní ìrètí kankan, mi ò sì rí...   \n",
       "4  Inú mi máa n bí mi gan-an, inú sì máa n bí mi ...   \n",
       "\n",
       "                                       output-Yoruba  \\\n",
       "0  Ó lè ?e é lá?fààní láti s? ohun tó n ?eni láàá...   \n",
       "1  Ó lè ?òro láti dá wà, àmó? àw?n ò?nà kan wà té...   \n",
       "2  Àw?n èrò tó n fa ìdààmú ?kàn lè máa dunni, àmó...   \n",
       "3  Ìrè?wè?sì lè jé? àmì ìrè?wè?sì ?kàn. ? jé? ká ...   \n",
       "4  Ó ?e pàtàkì pé kó o kó? bó o ?e lè máa ?àkóso ...   \n",
       "\n",
       "                                            combined  \n",
       "0  {'instruction-Yoruba': 'O jé? ò?kan lára àw?n ...  \n",
       "1  {'instruction-Yoruba': 'O jé? ò?kan lára àw?n ...  \n",
       "2  {'instruction-Yoruba': 'O jé? ò?kan lára àw?n ...  \n",
       "3  {'instruction-Yoruba': 'O jé? ò?kan lára àw?n ...  \n",
       "4  {'instruction-Yoruba': 'O jé? ò?kan lára àw?n ...  "
      ]
     },
     "execution_count": 31,
     "metadata": {},
     "output_type": "execute_result"
    }
   ],
   "source": [
    "def dataframe_to_nested_dict(df):\n",
    "    result = {}\n",
    "    for index, row in df.iterrows():\n",
    "        result[index] = {col: row[col] for col in df.columns}\n",
    "    return result\n",
    "\n",
    "nested_dict = dataframe_to_nested_dict(df)\n",
    "df['combined'] = nested_dict\n",
    "df.head()"
   ]
  },
  {
   "cell_type": "code",
   "execution_count": 37,
   "metadata": {},
   "outputs": [
    {
     "name": "stdout",
     "output_type": "stream",
     "text": [
      "<class 'pandas.core.frame.DataFrame'>\n",
      "RangeIndex: 6000 entries, 0 to 5999\n",
      "Data columns (total 4 columns):\n",
      " #   Column              Non-Null Count  Dtype \n",
      "---  ------              --------------  ----- \n",
      " 0   instruction-Yoruba  6000 non-null   object\n",
      " 1   input-Yoruba        6000 non-null   object\n",
      " 2   output-Yoruba       6000 non-null   object\n",
      " 3   combined            6000 non-null   object\n",
      "dtypes: object(4)\n",
      "memory usage: 187.6+ KB\n"
     ]
    }
   ],
   "source": [
    "df.info()"
   ]
  },
  {
   "cell_type": "code",
   "execution_count": 39,
   "metadata": {},
   "outputs": [],
   "source": [
    "df.to_csv('yoruba-mental-data.csv', index=False)"
   ]
  },
  {
   "cell_type": "code",
   "execution_count": null,
   "metadata": {},
   "outputs": [],
   "source": []
  }
 ],
 "metadata": {
  "kernelspec": {
   "display_name": "Python 3",
   "language": "python",
   "name": "python3"
  },
  "language_info": {
   "codemirror_mode": {
    "name": "ipython",
    "version": 3
   },
   "file_extension": ".py",
   "mimetype": "text/x-python",
   "name": "python",
   "nbconvert_exporter": "python",
   "pygments_lexer": "ipython3",
   "version": "3.12.5"
  }
 },
 "nbformat": 4,
 "nbformat_minor": 2
}
